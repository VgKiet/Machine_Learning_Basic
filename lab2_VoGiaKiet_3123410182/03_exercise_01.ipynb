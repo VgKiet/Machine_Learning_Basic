{
  "cells": [
    {
      "cell_type": "markdown",
      "id": "9d3700c7-00aa-4206-805f-a2b5c35bc176",
      "metadata": {
        "id": "9d3700c7-00aa-4206-805f-a2b5c35bc176"
      },
      "source": [
        "# Cơ bản về ngôn ngữ lập trình Python\n",
        "\n",
        "**Cách gõ trong ô Markdown**\n",
        "\n",
        "Online Latex Equation: https://latex.codecogs.com/eqneditor/editor.php <br/>\n",
        "Online Table Markdown: https://www.tablesgenerator.com/ <br/>\n",
        "Jupyter Markdown Cheatsheet: https://tinyurl.com/2fuw833c\n",
        "\n",
        "\n",
        "**Tham khảo code Python**\n",
        "\n",
        "Python Tutorial: https://www.w3schools.com/python/default.asp"
      ]
    },
    {
      "cell_type": "markdown",
      "id": "2d158c9e-12a4-4b5a-b703-0aea2ff00d02",
      "metadata": {
        "id": "2d158c9e-12a4-4b5a-b703-0aea2ff00d02"
      },
      "source": [
        "## 1. Nhập/xuất, biểu thức tính toán"
      ]
    },
    {
      "cell_type": "markdown",
      "id": "3074dd2a-18b9-44b1-8019-faa237e4e8dd",
      "metadata": {
        "id": "3074dd2a-18b9-44b1-8019-faa237e4e8dd"
      },
      "source": [
        "### Bài 1. Tính giá trị hàm số\n",
        "**Yêu cầu**: Hãy viết chương trình nhập vào số thực x và tính giá trị biểu thức:\n",
        "$$\n",
        "    f\\left(x\\right) = x + \\frac{x^5}{5!} + \\frac{\\sqrt{|x|}}{x^{3/2}}\n",
        "$$\n",
        "> Moi ban nhap vao gia tri cua bien so x: **2.3** <br/>\n",
        "> Gia tri cua ham so f(**2.3**) = **3.27**."
      ]
    },
    {
      "cell_type": "code",
      "execution_count": 25,
      "id": "66e97cd7-47a3-4011-8912-27ef003c4479",
      "metadata": {
        "colab": {
          "base_uri": "https://localhost:8080/"
        },
        "id": "66e97cd7-47a3-4011-8912-27ef003c4479",
        "outputId": "ce471df6-bbff-48cd-c97e-47114fee90f3"
      },
      "outputs": [
        {
          "name": "stdout",
          "output_type": "stream",
          "text": [
            "Moi ban nhap vao gia tri cua bien so x: 2.3\n",
            "Gia tri cua ham so f(2.3) =  3.27.\n"
          ]
        }
      ],
      "source": [
        "# Khai báo thư viện\n",
        "import math\n",
        "\n",
        "# Nhập dữ liệu\n",
        "x   = float(input('Moi ban nhap vao gia tri cua bien so x: '))\n",
        "# Xử lý\n",
        "\"\"\" CÁC BẠN LÀM BÀI Ở ĐÂY \"\"\"\n",
        "f_x = x + (x**5) / math.factorial(5) + math.sqrt(abs(x)) / (x**1.5)\n",
        "# ...\n",
        "\n",
        "# Xuất dữ liệu\n",
        "print(f'Gia tri cua ham so f({x}) = {f_x: .2f}.')"
      ]
    },
    {
      "cell_type": "markdown",
      "id": "239686a9-b07b-49cf-865f-848481810cf1",
      "metadata": {
        "id": "239686a9-b07b-49cf-865f-848481810cf1",
        "tags": []
      },
      "source": [
        "### Bài 2. Đổi sang giờ phút giây\n",
        "Một thiết bị hoạt động được t giây. Hãy viết chương trình chuyển số giây đó dưới dạng số giờ, số phút và số giây.\n",
        ">Nhap vao tong so giay: **4810** <br/>\n",
        ">**4810** giay co dang **1:20:10**"
      ]
    },
    {
      "cell_type": "code",
      "execution_count": 26,
      "id": "ad9c7cc5-a62b-42aa-b19b-4383dc118098",
      "metadata": {
        "colab": {
          "base_uri": "https://localhost:8080/"
        },
        "id": "ad9c7cc5-a62b-42aa-b19b-4383dc118098",
        "outputId": "30467638-a639-4e6f-a01d-163984f59c94"
      },
      "outputs": [
        {
          "name": "stdout",
          "output_type": "stream",
          "text": [
            "Nhap vao tong so giay: 4810\n",
            "4810 giay co dang 1:20:10\n"
          ]
        }
      ],
      "source": [
        "# Nhập dữ liệu\n",
        "t  = int(input('Nhap vao tong so giay: '))\n",
        "\n",
        "# Xử lý\n",
        "\"\"\" CÁC BẠN LÀM BÀI Ở ĐÂY \"\"\"\n",
        "hh = t // 3600\n",
        "mm = (t % 3600) // 60\n",
        "ss = (t % 3600) % 60\n",
        "# ...\n",
        "\n",
        "# Xuất dữ liệu\n",
        "print(f'{t} giay co dang {hh}:{mm}:{ss}')"
      ]
    },
    {
      "cell_type": "markdown",
      "id": "17d60c56-c83c-4126-8003-e2ccba7b52ce",
      "metadata": {
        "id": "17d60c56-c83c-4126-8003-e2ccba7b52ce"
      },
      "source": [
        "## 2. Cấu trúc lựa chọn"
      ]
    },
    {
      "cell_type": "markdown",
      "id": "76774c9e-de62-4c88-817d-b1c4928dc12d",
      "metadata": {
        "id": "76774c9e-de62-4c88-817d-b1c4928dc12d"
      },
      "source": [
        "### Bài 3. Giải phuơng trình bậc 1\n",
        "Nhập 2 số thực $a$, $b$. Tìm nghiệm của phương trình bậc 1 $ax + b = 0$.\n",
        ">Moi ban nhap he so a: **1** <br/>\n",
        ">Moi ban nhap he so b: **5** <br/>\n",
        ">Phuong trinh **1x + 5 = 0** co **1** nghiem x = **-5.00**."
      ]
    },
    {
      "cell_type": "code",
      "execution_count": 27,
      "id": "073e5194-32f7-4e30-af77-f8173f70da26",
      "metadata": {
        "colab": {
          "base_uri": "https://localhost:8080/"
        },
        "id": "073e5194-32f7-4e30-af77-f8173f70da26",
        "outputId": "f97f996f-8ee1-443f-f280-268c8963208b"
      },
      "outputs": [
        {
          "name": "stdout",
          "output_type": "stream",
          "text": [
            "Moi ban nhap he so a: 1\n",
            "Moi ban nhap he so b: 5\n",
            "Phuong trinh 1x + 5 = 0 co 1 nghiem x = -5.00.\n"
          ]
        }
      ],
      "source": [
        "# Nhập dữ liệu\n",
        "a  = int(input('Moi ban nhap he so a: '))\n",
        "b  = int(input('Moi ban nhap he so b: '))\n",
        "\n",
        "# Xử lý\n",
        "\"\"\" CÁC BẠN LÀM BÀI Ở ĐÂY \"\"\"\n",
        "if a == 0:\n",
        "    if b == 0:\n",
        "        flag = -1\n",
        "    else:\n",
        "        flag = 0\n",
        "else:\n",
        "    x = -b / a\n",
        "    flag = 1\n",
        "# ...\n",
        "\n",
        "# Xuất dữ liệu\n",
        "s = f'Phuong trinh {a}x + {b} = 0'\n",
        "if flag == -1:\n",
        "    print(f'{s} vo so nghiem.')\n",
        "elif flag == 0:\n",
        "    print(f'{s} vo nghiem.')\n",
        "else:\n",
        "    print(f'{s} co 1 nghiem x = {x: .2f}.')\n",
        "# if"
      ]
    },
    {
      "cell_type": "markdown",
      "id": "a865ace8-924e-47cc-8820-8c417d88b6ae",
      "metadata": {
        "id": "a865ace8-924e-47cc-8820-8c417d88b6ae"
      },
      "source": [
        "### Bài 4. Chuyển ký số sang số\n",
        "Nhập một chuỗi s là chuỗi biểu diễn ký tự số trong tiếng Anh gồm {zero, one, two, three, four, five, six, seven, eight, nine}. Hãy kiểm tra chuỗi nhập có hợp lệ không? Nếu hợp lệ thì in ra ký số của chuỗi đó và chuỗi ký số bên tiếng việt tương ứng.\n",
        "> Moi ban nhap chuoi ky so s: One <br/>\n",
        "> Chuoi vua nhap hop le!\n",
        "> \"One\" bieu dien so cho \"1\" va ung voi tieng Viet \"mot\".\n",
        "\n",
        "> Moi ban nhap chuoi ky so s: hello <br/>\n",
        "> Chuoi vua nhap khong hop le!"
      ]
    },
    {
      "cell_type": "code",
      "execution_count": 28,
      "id": "05d9f65b-4e99-4b6f-aba8-c285290b2c5e",
      "metadata": {
        "colab": {
          "base_uri": "https://localhost:8080/"
        },
        "id": "05d9f65b-4e99-4b6f-aba8-c285290b2c5e",
        "outputId": "ec9e91c9-2dbb-4eec-9441-55cf32f1d505"
      },
      "outputs": [
        {
          "name": "stdout",
          "output_type": "stream",
          "text": [
            "Moi ban nhap chuoi ky so s: oNE\n",
            "Chuoi vua nhap hop le!\n",
            "\"one\" bieu dien so cho \"1\" va ung voi tieng Viet \"mot\".\n"
          ]
        }
      ],
      "source": [
        "s = input(\"Moi ban nhap chuoi ky so s: \")\n",
        "\n",
        "en  = [\"zero\", \"one\", \"two\", \"three\", \"four\", \"five\", \"six\", \"seven\", \"eight\", \"nine\"]\n",
        "vi  = [\"khong\", \"mot\", \"hai\", \"ba\", \"bon\", \"nam\", \"sau\", \"bay\", \"tam\", \"chin\"]\n",
        "num = [0, 1, 2, 3, 4, 5, 6, 7, 8, 9]\n",
        "\"\"\" CÁC BẠN LÀM BÀI Ở ĐÂY \"\"\"\n",
        "inp = s.lower()\n",
        "if inp in en:\n",
        "  vt = en.index(inp)\n",
        "  print(\"Chuoi vua nhap hop le!\")\n",
        "  print(f'\"{inp}\" bieu dien so cho \"{num[vt]}\" va ung voi tieng Viet \"{vi[vt]}\".')\n",
        "else:\n",
        "  print(\"Chuoi vua nhap khong hop le!\")\n",
        "\n",
        "# ..."
      ]
    },
    {
      "cell_type": "markdown",
      "id": "35adaeca-5d98-44ee-8e80-bda70395f1a8",
      "metadata": {
        "id": "35adaeca-5d98-44ee-8e80-bda70395f1a8"
      },
      "source": [
        "## 3. Cấu trúc lặp"
      ]
    },
    {
      "cell_type": "markdown",
      "id": "6c087ac9-28da-4590-98f4-b1481da3582c",
      "metadata": {
        "id": "6c087ac9-28da-4590-98f4-b1481da3582c"
      },
      "source": [
        "### Bài 5. Tính tổng các số chẵn\n",
        "Nhập một số nguyên n. Hãy tính tổng các số chẵn từ 1 đến n.\n",
        "> Moi ban nhap so nguyen n: **100** <br>\n",
        "> Tong cac so chan tu 1 den **100** la **2550**."
      ]
    },
    {
      "cell_type": "code",
      "execution_count": 29,
      "id": "845506c4-f77f-4c2c-91b4-b34b33d6b2db",
      "metadata": {
        "colab": {
          "base_uri": "https://localhost:8080/"
        },
        "id": "845506c4-f77f-4c2c-91b4-b34b33d6b2db",
        "outputId": "25726a21-03a9-409a-d523-8b5396b83892"
      },
      "outputs": [
        {
          "name": "stdout",
          "output_type": "stream",
          "text": [
            "Moi ban nhap so nguyen n: 100\n",
            "Tong cac so chan tu 1 den 100 la 2550.\n"
          ]
        }
      ],
      "source": [
        "# Nhập dữ liệu\n",
        "n   = int(input(\"Moi ban nhap so nguyen n: \"))\n",
        "\n",
        "# Xuất dữ liệu\n",
        "s   = 0\n",
        "\"\"\" CÁC BẠN LÀM BÀI Ở ĐÂY \"\"\"\n",
        "for i in range(1, n+1):\n",
        "  if i % 2 ==0:\n",
        "    s+=i\n",
        "# ...\n",
        "\n",
        "print(f'Tong cac so chan tu 1 den {n} la {s}.')"
      ]
    },
    {
      "cell_type": "markdown",
      "id": "2ec9b4d3-6c99-46d5-9520-f01bbc73b844",
      "metadata": {
        "id": "2ec9b4d3-6c99-46d5-9520-f01bbc73b844"
      },
      "source": [
        "### Bài 6. Kiểm tra số nguyên tố\n",
        "\n",
        "Nhập vào một số nguyên dương n. Hãy kiểm tra xem n có phải là nguyên tố không?\n",
        "> Moi nhap nhap so nguyen n: **10** <br/>\n",
        "> **10** khong phai la so nguyen to.\n",
        "\n",
        "> Moi nhap nhap so nguyen n: **97** <br/>\n",
        "> **97** la so nguyen to.\n",
        "\n",
        "**Lưu ý**: n là số nguyên tố khi và chỉ khi không tồn tại số nguyên từ $2$ đến $\\sqrt(n)$ mà chia hết cho n."
      ]
    },
    {
      "cell_type": "code",
      "execution_count": 30,
      "id": "c8ef7876-623d-4d8b-95be-87e26917b8d8",
      "metadata": {
        "colab": {
          "base_uri": "https://localhost:8080/"
        },
        "id": "c8ef7876-623d-4d8b-95be-87e26917b8d8",
        "outputId": "7927415c-cfaa-4c48-ea8d-90ead21db026"
      },
      "outputs": [
        {
          "name": "stdout",
          "output_type": "stream",
          "text": [
            "Moi ban nhap so nguyen n: 10\n",
            "10 khong la so nguyen to.\n"
          ]
        }
      ],
      "source": [
        "# Nhập dữ liệu\n",
        "n   = int(input(\"Moi ban nhap so nguyen n: \"))\n",
        "\n",
        "# Xử lý\n",
        "\"\"\" CÁC BẠN LÀM BÀI Ở ĐÂY \"\"\"\n",
        "if n < 2:\n",
        "  lant = False\n",
        "else:\n",
        "  lant = True\n",
        "  for i in range(2, n):\n",
        "    if n % i == 0:\n",
        "      lant = False\n",
        "      break\n",
        "# ...\n",
        "\n",
        "# Xuất dữ liệu\n",
        "if lant == True:\n",
        "    print(f'{n} la so nguyen to.')\n",
        "else:\n",
        "    print(f'{n} khong la so nguyen to.')"
      ]
    },
    {
      "cell_type": "markdown",
      "id": "0c3feb44-c1e0-4666-8651-26ef140902dd",
      "metadata": {
        "id": "0c3feb44-c1e0-4666-8651-26ef140902dd"
      },
      "source": [
        "## 4. Xử lý ngoại lệ và hàm số"
      ]
    },
    {
      "cell_type": "markdown",
      "id": "31eff98b-ff44-455c-bbe5-7d0d073ebe16",
      "metadata": {
        "id": "31eff98b-ff44-455c-bbe5-7d0d073ebe16"
      },
      "source": [
        "### Bài 7. Giải phương trình bậc 2\n",
        "Nhập 3 số thực a, b, c (có kiểm tra dữ liệu nhập số thực). Hãy xây dựng hàm giải phương trình bậc 2 $ax^2+bx+c=0$ và in kết quả giải ra màn hình.\n",
        "> Moi ban nhap he so a, b, c:  **a b c**<br/>\n",
        "> Ban nhap sai! Moi ban nhap lai!<br/>\n",
        "> Moi ban nhap he so a, b, c:  **1 a 3**<br/>\n",
        "> Ban nhap sai! Moi ban nhap lai!<br/>\n",
        "> Moi ban nhap he so a, b, c: **1 5 6**<br/>\n",
        "> Phuong trinh bac 2 **1x^2 + 5x + 6 = 0** co **2**  nghiem x1 = **-2.00**, x2 = **-3.00**."
      ]
    },
    {
      "cell_type": "code",
      "execution_count": 31,
      "id": "2a05bbed-f93b-4aec-bb26-f784f78421e4",
      "metadata": {
        "id": "2a05bbed-f93b-4aec-bb26-f784f78421e4"
      },
      "outputs": [],
      "source": [
        "def NhapDuLieu():\n",
        "    \"\"\"\n",
        "    Input:\n",
        "        Ban phim = 1 5 6\n",
        "    Output:\n",
        "        (a, b, c) --> (1, 5, 6)\n",
        "    \"\"\"\n",
        "    \"\"\" CÁC BẠN LÀM BÀI Ở ĐÂY \"\"\"\n",
        "    a = b = c = None\n",
        "\n",
        "    while True:\n",
        "        data = input(\"Moi ban nhap he so a, b, c: \").split()\n",
        "\n",
        "        if len(data) == 3:\n",
        "            try:\n",
        "                a, b, c = map(float, data)  # thử ép kiểu sang số\n",
        "                break  # nếu không lỗi thì thoát vòng lặp\n",
        "            except ValueError:\n",
        "                print(\"Chi duoc nhap so, khong duoc nhap chu. Moi ban nhap lai!\")\n",
        "        else:\n",
        "            print(\"Ban phai nhap dung 3 so, vui long nhap lai!\")\n",
        "\n",
        "    # ...\n",
        "\n",
        "    return a, b, c\n",
        "# NhapDuLieu"
      ]
    },
    {
      "cell_type": "code",
      "execution_count": 33,
      "id": "142a6409-22ab-48fe-bded-904f389d9bd7",
      "metadata": {
        "colab": {
          "base_uri": "https://localhost:8080/"
        },
        "id": "142a6409-22ab-48fe-bded-904f389d9bd7",
        "outputId": "ab543ebd-0901-4ed6-d378-57be502b8c62"
      },
      "outputs": [
        {
          "name": "stdout",
          "output_type": "stream",
          "text": [
            "Moi ban nhap he so a, b, c: a b 1\n",
            "Chi duoc nhap so, khong duoc nhap chu. Moi ban nhap lai!\n",
            "Moi ban nhap he so a, b, c: 1 5 6\n"
          ]
        }
      ],
      "source": [
        "# Kiểm tra hàm\n",
        "a, b, c = NhapDuLieu()"
      ]
    },
    {
      "cell_type": "code",
      "execution_count": 34,
      "id": "604c3a62-ccf1-446b-8455-b24f37d2008d",
      "metadata": {
        "id": "604c3a62-ccf1-446b-8455-b24f37d2008d"
      },
      "outputs": [],
      "source": [
        "def GiaiPhuongTrinhBac2(a, b, c):\n",
        "    \"\"\"\n",
        "    Input: a, b, c\n",
        "    Output:\n",
        "    + flag = -1 (VSN), 0 (VN), k (k nghiem)\n",
        "    + () --> flag = -1, 0\n",
        "    + (x) --> flag = 1\n",
        "    + (x1, x2) --> flag = 2\n",
        "    \"\"\"\n",
        "    import math\n",
        "    flag = None\n",
        "    x = ()\n",
        "\n",
        "    \"\"\" CÁC BẠN LÀM BÀI Ở ĐÂY \"\"\"\n",
        "    if a == 0:\n",
        "      if b == 0:\n",
        "        if c == 0:\n",
        "          flag = -1\n",
        "        else:\n",
        "          flag = 0\n",
        "      else:\n",
        "        x = -c / b\n",
        "        flag = 1\n",
        "    else:\n",
        "      d = b**2 - 4*a*c\n",
        "      if d < 0:\n",
        "        flag = 0\n",
        "      elif d == 0:\n",
        "        x = -b / (2*a)\n",
        "        flag = 1\n",
        "      else:\n",
        "        x1 = (-b + math.sqrt(d)) / (2*a)\n",
        "        x2 = (-b - math.sqrt(d)) / (2*a)\n",
        "        x = (x1, x2)\n",
        "        flag = 2\n",
        "    # ...\n",
        "\n",
        "    return flag, x\n",
        "# GiaiPhuongTrinhBac2"
      ]
    },
    {
      "cell_type": "code",
      "execution_count": 35,
      "id": "026317a6-6f3a-4d67-a53c-9e8623aa7718",
      "metadata": {
        "colab": {
          "base_uri": "https://localhost:8080/"
        },
        "id": "026317a6-6f3a-4d67-a53c-9e8623aa7718",
        "outputId": "a4b1c5ab-35fa-4548-a691-37ff4751ffe0"
      },
      "outputs": [
        {
          "name": "stdout",
          "output_type": "stream",
          "text": [
            "a = 0\n",
            "So nghiem: -1, nghiem = ()\n",
            "So nghiem: 0, nghiem = ()\n",
            "So nghiem: 1, nghiem = -1.2\n",
            "a <> 0\n",
            "So nghiem: 0, nghiem = ()\n",
            "So nghiem: 1, nghiem = -1.0\n",
            "So nghiem: 2, nghiem = (-2.0, -3.0)\n"
          ]
        }
      ],
      "source": [
        "print(\"a = 0\")\n",
        "flag, x = GiaiPhuongTrinhBac2(0, 0, 0)\n",
        "print(f'So nghiem: {flag}, nghiem = {x}')\n",
        "flag, x = GiaiPhuongTrinhBac2(0, 0, 5)\n",
        "print(f'So nghiem: {flag}, nghiem = {x}')\n",
        "flag, x = GiaiPhuongTrinhBac2(0, 5, 6)\n",
        "print(f'So nghiem: {flag}, nghiem = {x}')\n",
        "\n",
        "print(\"a <> 0\")\n",
        "flag, x = GiaiPhuongTrinhBac2(5, 1, 2)\n",
        "print(f'So nghiem: {flag}, nghiem = {x}')\n",
        "flag, x = GiaiPhuongTrinhBac2(1, 2, 1)\n",
        "print(f'So nghiem: {flag}, nghiem = {x}')\n",
        "flag, x = GiaiPhuongTrinhBac2(1, 5, 6)\n",
        "print(f'So nghiem: {flag}, nghiem = {x}')"
      ]
    },
    {
      "cell_type": "code",
      "execution_count": 36,
      "id": "2977bb76-9c3e-4395-acd9-9b53183e3a9c",
      "metadata": {
        "colab": {
          "base_uri": "https://localhost:8080/"
        },
        "id": "2977bb76-9c3e-4395-acd9-9b53183e3a9c",
        "outputId": "9092e237-8b77-4dbe-e14a-44f459fecb84"
      },
      "outputs": [
        {
          "name": "stdout",
          "output_type": "stream",
          "text": [
            "Moi ban nhap he so a, b, c: 5 6 7\n",
            "Phuong trinh bac 2 5.0x^2 + 6.0x + 7.0 = 0 co 2 nghiem, x1 = -2.0, x2 = -3.0!\n"
          ]
        }
      ],
      "source": [
        "# Kết nối bài\n",
        "a, b, c = NhapDuLieu()\n",
        "# Gọi hàm giải\n",
        "flag, x = GiaiPhuongTrinhBac2(1, 5, 6)\n",
        "# Xuất dữ liệu\n",
        "s = f'Phuong trinh bac 2 {a}x^2 + {b}x + {c} = 0'\n",
        "if flag == -1:\n",
        "    print(f'{s} co vo so nghiem!')\n",
        "elif flag == 0:\n",
        "    print(f'{s} vo nghiem!')\n",
        "elif flag == 1:\n",
        "    print(f'{s} co 1 nghiem, x = {x[0]}!')\n",
        "elif flag == 2:\n",
        "    print(f'{s} co 2 nghiem, x1 = {x[0]}, x2 = {x[1]}!')\n",
        "# if"
      ]
    },
    {
      "cell_type": "markdown",
      "id": "218d3938-7f4e-4097-a412-08c165ef910e",
      "metadata": {
        "id": "218d3938-7f4e-4097-a412-08c165ef910e"
      },
      "source": [
        "## 5. Dữ liệu nâng cao (List, Tuple, Set, Dictionary)"
      ]
    },
    {
      "cell_type": "markdown",
      "id": "e65d22f7-3801-40c4-af55-502bf5f61fb7",
      "metadata": {
        "id": "e65d22f7-3801-40c4-af55-502bf5f61fb7"
      },
      "source": [
        "### Bài 8. Các thao tác xử lý mảng số\n",
        "\n",
        "Viết chương trình xây dựng các hàm sau cho List và kiểm tra tính đúng đắn của các hàm số:\n",
        "+ Nhập một mảng số từ bàn phím cách nhau bởi khoảng trắng. Xuất mảng ra màn hình. <br/>\n",
        "+ Sinh một mảng số ngẫu nhiên có n phần tử trong khoảng a, b.\n",
        "+ Tính tổng của mảng số, đếm các phần tử chẵn, lẻ trong mảng.\n",
        "+ Cho một mảng số, hãy trả về dãy chẳn, dãy lẻ.\n",
        "\n",
        "> a = NhapMang() <br/>\n",
        "> XuatMang(a) <br/>\n",
        "> b = SinhNgauNhien(10, -10, 10) <br/>\n",
        "> XuatMang(b) <br/>\n",
        "> tong, chan, le = TinhTongChanLe(b) <br/>\n",
        "> a_chan, a_le = TimChanLe(b) <br/>"
      ]
    },
    {
      "cell_type": "code",
      "execution_count": 1,
      "id": "0198d726-ca73-4d42-ab0c-337a50228bb6",
      "metadata": {
        "id": "0198d726-ca73-4d42-ab0c-337a50228bb6"
      },
      "outputs": [],
      "source": [
        "def NhapMang():\n",
        "    \"\"\"\n",
        "    Input:\n",
        "        Ban phim = 1 4 1 2 3 4 1 2 3 3 1 2 3 4 10 2\n",
        "    Output:\n",
        "        a = [1, 4, 1, 2, 3, 4, 1, 2, 3, 3, 1, 2, 3, 4, 10, 2]\n",
        "    \"\"\"\n",
        "    \"\"\" CÁC BẠN LÀM BÀI Ở ĐÂY \"\"\"\n",
        "    a = list(map(int, input(\"Nhap mang so: \").split()))\n",
        "    # ...\n",
        "\n",
        "    return a\n",
        "# NhapMang"
      ]
    },
    {
      "cell_type": "code",
      "execution_count": 2,
      "id": "c3b4c530-34f8-445b-bf69-5864e08bdb97",
      "metadata": {
        "colab": {
          "base_uri": "https://localhost:8080/"
        },
        "id": "c3b4c530-34f8-445b-bf69-5864e08bdb97",
        "outputId": "a93d75fa-7dd0-4a9e-ddb4-0e61538358cc"
      },
      "outputs": [
        {
          "name": "stdout",
          "output_type": "stream",
          "text": [
            "Nhap mang so: 1 4 1 2 3 4 1 2 3 3 1 2 3 4 10 2\n",
            "[1, 4, 1, 2, 3, 4, 1, 2, 3, 3, 1, 2, 3, 4, 10, 2]\n"
          ]
        }
      ],
      "source": [
        "a = NhapMang() # 1 4 1 2 3 4 1 2 3 3 1 2 3 4 10 2\n",
        "print(a)"
      ]
    },
    {
      "cell_type": "code",
      "execution_count": 13,
      "id": "424c3606-f2b4-4000-b5b9-7237f96f4a34",
      "metadata": {
        "id": "424c3606-f2b4-4000-b5b9-7237f96f4a34"
      },
      "outputs": [],
      "source": [
        "def XuatMang(a):\n",
        "    \"\"\"\n",
        "    Input:\n",
        "        a = [1, 4, 1, 2, 3, 4, 1, 2, 3, 3, 1, 2, 3, 4, 10, 2]\n",
        "    Output:\n",
        "        In ra man hinh:\n",
        "            Mang co 16 phan tu: 1 4 1 2 3 4 1 2 3 3 1 2 3 4 10 2\n",
        "    \"\"\"\n",
        "    \"\"\" CÁC BẠN LÀM BÀI Ở ĐÂY \"\"\"\n",
        "    n = len(a)\n",
        "    print(\"Mang co \",n, \" phan tu:\", end = \" \")\n",
        "    for x in a:\n",
        "      print(x, end = \" \")\n",
        "    # ...\n",
        "\n",
        "# XuatMang"
      ]
    },
    {
      "cell_type": "code",
      "execution_count": 14,
      "id": "a1cdc488-a080-47cb-bd06-42b12b47f84e",
      "metadata": {
        "colab": {
          "base_uri": "https://localhost:8080/"
        },
        "id": "a1cdc488-a080-47cb-bd06-42b12b47f84e",
        "outputId": "14d17dba-d66a-41b7-9b61-b8b15ec28388"
      },
      "outputs": [
        {
          "name": "stdout",
          "output_type": "stream",
          "text": [
            "Mang co  16  phan tu: 1 4 1 2 3 4 1 2 3 3 1 2 3 4 10 2 "
          ]
        }
      ],
      "source": [
        "a = [1, 4, 1, 2, 3, 4, 1, 2, 3, 3, 1, 2, 3, 4, 10, 2]\n",
        "XuatMang(a)"
      ]
    },
    {
      "cell_type": "code",
      "execution_count": 15,
      "id": "c3b401bb-877e-4a2e-8940-81e79411c826",
      "metadata": {
        "id": "c3b401bb-877e-4a2e-8940-81e79411c826"
      },
      "outputs": [],
      "source": [
        "import random\n",
        "def SinhNgauNhien(n, vmin = -10, vmax = 10):\n",
        "    \"\"\"\n",
        "    Input:\n",
        "        n = 30, vmin = -10, vmax = 10\n",
        "    Output:\n",
        "        a = [-1, -4, -8, 6, 4, -5, -1, -4, -9, -5, -10, 0, -6, 2, 1, -9, -9, 10, -8, -9, -7, 9, 2, -4, -1, -6, 5, -6, 9, -8]\n",
        "    \"\"\"\n",
        "    a = []\n",
        "    \"\"\" CÁC BẠN LÀM BÀI Ở ĐÂY \"\"\"\n",
        "    # ...\n",
        "    for _ in range(n):\n",
        "      a.append(random.randint(vmin, vmax))\n",
        "\n",
        "\n",
        "    return a\n",
        "# SinhNgauNhien"
      ]
    },
    {
      "cell_type": "code",
      "execution_count": 16,
      "id": "d1b76bc2-f9ae-4a7a-9dcb-36e80e96ebd5",
      "metadata": {
        "colab": {
          "base_uri": "https://localhost:8080/"
        },
        "id": "d1b76bc2-f9ae-4a7a-9dcb-36e80e96ebd5",
        "outputId": "6c82b0d0-4478-4575-c899-795d9029ea3f"
      },
      "outputs": [
        {
          "name": "stdout",
          "output_type": "stream",
          "text": [
            "[10, -3, 3, -6, -1, 3, 7, 8, -8, -6, -9, -7, 1, -9, -4, 7, 4, 4, -2, 9, -4, 9, -7, -2, -5, -3, -10, 3, 5, 1]\n",
            "[10, 2, 6, 8, 1, 4, 6, 7, 2, 7, 2, 4, 1, 3, 6, 7, 2, 1, 10, 1, 10, 0, 5, 9, 1, 4, 8, 4, 7, 6]\n",
            "[-1, -2, -4, -1, -3, -1, -8, -8, -4, -7, -2, -5, -6, -6, 0, -4, -6, -3, -1, -9, -8, -10, -9, -9, -10, -7, -6, -4, -5, -1]\n"
          ]
        }
      ],
      "source": [
        "b = SinhNgauNhien(30, -10, 10)\n",
        "print(b)\n",
        "b = SinhNgauNhien(30, vmin = 0)\n",
        "print(b)\n",
        "b = SinhNgauNhien(30, vmax = 2)\n",
        "print(b)"
      ]
    },
    {
      "cell_type": "code",
      "execution_count": 17,
      "id": "e710b533-d63d-4a08-a70f-e593f5ff3612",
      "metadata": {
        "id": "e710b533-d63d-4a08-a70f-e593f5ff3612"
      },
      "outputs": [],
      "source": [
        "def DemTongChanLe(a):\n",
        "    \"\"\"\n",
        "    Input: a[] = [1, 4, 2, 0, -1, -7, 3, -6, 4, 9, -5, 7, 7, -7, -10, 1, -10, 9, -4, -6, 10, -2, -10, -8, -3, 2, -7, -10, 6, 0]\n",
        "    Output: tong, sochan, sole\n",
        "    \"\"\"\n",
        "    tong = 0\n",
        "    sochan = 0\n",
        "    sole = 0\n",
        "\n",
        "    \"\"\" CÁC BẠN LÀM BÀI Ở ĐÂY \"\"\"\n",
        "    # ...\n",
        "    for x in a:\n",
        "      tong += x\n",
        "      if x % 2 == 0:\n",
        "        sochan +=1\n",
        "      else:\n",
        "        sole +=1\n",
        "\n",
        "    return tong, sochan, sole\n",
        "# DemTongChanLe"
      ]
    },
    {
      "cell_type": "code",
      "execution_count": 18,
      "id": "44c8959b-84fa-4174-83b3-18fc02152a04",
      "metadata": {
        "colab": {
          "base_uri": "https://localhost:8080/"
        },
        "id": "44c8959b-84fa-4174-83b3-18fc02152a04",
        "outputId": "0ab246c9-64c9-42c3-cd60-358109b0aed4"
      },
      "outputs": [
        {
          "name": "stdout",
          "output_type": "stream",
          "text": [
            "(-31, 17, 13)\n",
            "(141, 17, 13)\n"
          ]
        }
      ],
      "source": [
        "a = [1, 4, 2, 0, -1, -7, 3, -6, 4, 9, -5, 7, 7, -7, -10, 1, -10, 9, -4, -6, 10, -2, -10, -8, -3, 2, -7, -10, 6, 0]\n",
        "print(DemTongChanLe(a))\n",
        "a = [9, 6, 5, 0, 8, 8, 1, 10, 0, 0, 1, 1, 2, 7, 1, 10, 9, 1, 10, 8, 2, 8, 4, 5, 4, 5, 5, 3, 6, 2]\n",
        "print(DemTongChanLe(a))"
      ]
    },
    {
      "cell_type": "code",
      "execution_count": 19,
      "id": "2627b2c2-ab2c-4774-8932-5db03e813a20",
      "metadata": {
        "id": "2627b2c2-ab2c-4774-8932-5db03e813a20"
      },
      "outputs": [],
      "source": [
        "def DayChanLe(a): # Gia tri tra ve\n",
        "    \"\"\"\n",
        "    Input:\n",
        "        a = [1, 4, 2, 0, -1, -7, 3, -6, 4, 9, -5, 7, 7, -7, -10, 1, -10, 9, -4, -6, 10, -2, -10, -8, -3, 2, -7, -10, 6, 0]\n",
        "    Output: (achan, ale)\n",
        "        achan = [4, 2, 0, -6, 4, -10, -10, -4, -6, 10, -2, -10, -8, 2, -10, 6, 0]\n",
        "        ale = [1, -1, -7, 3, 9, -5, 7, 7, -7, 1, 9, -3, -7]\n",
        "    \"\"\"\n",
        "    achan = []\n",
        "    ale = []\n",
        "\n",
        "    \"\"\" CÁC BẠN LÀM BÀI Ở ĐÂY \"\"\"\n",
        "    for x in a:\n",
        "      if x % 2 == 0:\n",
        "        achan.append(x)\n",
        "      else:\n",
        "        ale.append(x)\n",
        "    # ...\n",
        "\n",
        "    return achan, ale\n",
        "# DayChanLe"
      ]
    },
    {
      "cell_type": "code",
      "execution_count": 20,
      "id": "a9d76464-34d9-4b35-9250-8f9ab9b06a88",
      "metadata": {
        "colab": {
          "base_uri": "https://localhost:8080/"
        },
        "id": "a9d76464-34d9-4b35-9250-8f9ab9b06a88",
        "outputId": "6a112754-e3be-4b48-8cd6-7a0b27bd5988"
      },
      "outputs": [
        {
          "name": "stdout",
          "output_type": "stream",
          "text": [
            "DayChanLe:\n",
            "Chan = [4, 2, 0, -6, 4, -10, -10, -4, -6, 10, -2, -10, -8, 2, -10, 6, 0]\n",
            "Le = [1, -1, -7, 3, 9, -5, 7, 7, -7, 1, 9, -3, -7]\n",
            "\n"
          ]
        }
      ],
      "source": [
        "a = [1, 4, 2, 0, -1, -7, 3, -6, 4, 9, -5, 7, 7, -7, -10, 1, -10, 9, -4, -6, 10, -2, -10, -8, -3, 2, -7, -10, 6, 0]\n",
        "achan, ale = DayChanLe(a)\n",
        "print(f'DayChanLe:\\nChan = {achan}\\nLe = {ale}\\n')"
      ]
    },
    {
      "cell_type": "markdown",
      "id": "7c5fdb97-5b63-415f-84fc-1edd4fdce982",
      "metadata": {
        "id": "7c5fdb97-5b63-415f-84fc-1edd4fdce982"
      },
      "source": [
        "### Bài 9. Các thao tác trên tập hợp, từ điển\n",
        "\n",
        "Viết chương trình nhập vào một dãy ký tự a cách nhau bởi khoảng trắng. Hãy thực hiện:\n",
        "+ In các ký tự trong a không trùng nhau và được sắp theo thứ tự tăng dần\n",
        "+ Đếm số lần xuất hiện các ký tự trong dãy a\n"
      ]
    },
    {
      "cell_type": "code",
      "execution_count": 21,
      "id": "fe04c02c-1165-4cb1-a6f5-0c12ad9d1060",
      "metadata": {
        "id": "fe04c02c-1165-4cb1-a6f5-0c12ad9d1060"
      },
      "outputs": [],
      "source": [
        "def XuLyKhongTrung(a):\n",
        "    \"\"\"\n",
        "    Input:\n",
        "        a = ['A', 'G', 'C', 'A', 'C', 'F', 'F', 'T', 'H']\n",
        "    Output:\n",
        "        s = ['A', 'C', 'F', 'G', 'H', 'T']\n",
        "    \"\"\"\n",
        "    s = set([])\n",
        "    \"\"\" CÁC BẠN LÀM BÀI Ở ĐÂY \"\"\"\n",
        "    for x in a:\n",
        "      s.add(x)\n",
        "    # ...\n",
        "\n",
        "    return sorted(s)\n",
        "# XuLyKhongTrung"
      ]
    },
    {
      "cell_type": "code",
      "execution_count": 22,
      "id": "441638fc-6c33-4bf7-82a5-7e6dcfb400e2",
      "metadata": {
        "colab": {
          "base_uri": "https://localhost:8080/"
        },
        "id": "441638fc-6c33-4bf7-82a5-7e6dcfb400e2",
        "outputId": "376d3e19-746e-4f88-c406-9e1f1295f40e"
      },
      "outputs": [
        {
          "name": "stdout",
          "output_type": "stream",
          "text": [
            "['A', 'C', 'F', 'G', 'H', 'T']\n"
          ]
        }
      ],
      "source": [
        "a = ['A', 'G', 'C', 'A', 'C', 'F', 'F', 'T', 'H']\n",
        "b = XuLyKhongTrung(a)\n",
        "print(b)"
      ]
    },
    {
      "cell_type": "code",
      "execution_count": 23,
      "id": "ed5c380a-09fa-4da3-afb9-fcd863fe3ecb",
      "metadata": {
        "id": "ed5c380a-09fa-4da3-afb9-fcd863fe3ecb"
      },
      "outputs": [],
      "source": [
        "def DemSoLanXuatHien(a):\n",
        "    \"\"\"\n",
        "    Input:\n",
        "        a = ['A', 'G', 'C', 'A', 'C', 'F', 'F', 'T', 'H']\n",
        "    Output:\n",
        "        dem = {'A': 2, 'G': 1, 'C': 2, 'F': 2, 'T': 1, 'H': 1}\n",
        "    \"\"\"\n",
        "    dem = {} # (k, v): k (ky tu) v (so lan xuat hien)\n",
        "    \"\"\" CÁC BẠN LÀM BÀI Ở ĐÂY \"\"\"\n",
        "    for x in a:\n",
        "      if x in dem:\n",
        "        dem[x] += 1\n",
        "      else:\n",
        "        dem[x] = 1\n",
        "    # ...\n",
        "\n",
        "    return dem\n",
        "# DemSoLanXuatHien"
      ]
    },
    {
      "cell_type": "code",
      "execution_count": 24,
      "id": "235695e6-a3de-4bfb-a432-6ab086836877",
      "metadata": {
        "colab": {
          "base_uri": "https://localhost:8080/"
        },
        "id": "235695e6-a3de-4bfb-a432-6ab086836877",
        "outputId": "1287dc77-523c-4dfc-f335-03c05afa2b2b"
      },
      "outputs": [
        {
          "name": "stdout",
          "output_type": "stream",
          "text": [
            "{'A': 2, 'G': 1, 'C': 2, 'F': 2, 'T': 1, 'H': 1}\n"
          ]
        }
      ],
      "source": [
        "a = ['A', 'G', 'C', 'A', 'C', 'F', 'F', 'T', 'H']\n",
        "b = DemSoLanXuatHien(a)\n",
        "print(b)"
      ]
    },
    {
      "cell_type": "markdown",
      "id": "a9c840d7-09b9-47fe-8422-2131838da3a5",
      "metadata": {
        "id": "a9c840d7-09b9-47fe-8422-2131838da3a5"
      },
      "source": [
        "# Kết thúc"
      ]
    }
  ],
  "metadata": {
    "colab": {
      "provenance": []
    },
    "kernelspec": {
      "display_name": "Python 3",
      "language": "python",
      "name": "python3"
    },
    "language_info": {
      "codemirror_mode": {
        "name": "ipython",
        "version": 3
      },
      "file_extension": ".py",
      "mimetype": "text/x-python",
      "name": "python",
      "nbconvert_exporter": "python",
      "pygments_lexer": "ipython3",
      "version": "3.12.8"
    }
  },
  "nbformat": 4,
  "nbformat_minor": 5
}
