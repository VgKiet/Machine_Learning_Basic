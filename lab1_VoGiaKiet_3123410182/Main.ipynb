{
  "cells": [
    {
      "cell_type": "markdown",
      "metadata": {
        "id": "CiGBlt5hGOuJ"
      },
      "source": [
        "#THUC HANH BUOI 1"
      ]
    },
    {
      "cell_type": "markdown",
      "metadata": {
        "id": "k1V4M336Gmfr"
      },
      "source": [
        "## NOI DUNG THUC HANH"
      ]
    },
    {
      "cell_type": "markdown",
      "metadata": {
        "id": "vEFXfnfHG70n"
      },
      "source": [
        "### TINH TOAN DON GIAN"
      ]
    },
    {
      "cell_type": "code",
      "execution_count": 3,
      "metadata": {
        "id": "b80clKQbGb1o"
      },
      "outputs": [
        {
          "name": "stdout",
          "output_type": "stream",
          "text": [
            "Calculator Basic\n",
            "c =  10 + 20 = 30\n"
          ]
        }
      ],
      "source": [
        "%run ex1_calc.py"
      ]
    },
    {
      "cell_type": "code",
      "execution_count": 4,
      "metadata": {},
      "outputs": [
        {
          "name": "stdout",
          "output_type": "stream",
          "text": [
            "Calculator Basic\n",
            "c =  10 + 20 = 30\n"
          ]
        }
      ],
      "source": [
        "print(\"Calculator Basic\")\n",
        "a = int(input(\"Nhap a: \"))\n",
        "b = int(input(\"Nhap b: \"))\n",
        "c = a + b\n",
        "print(\"c =  %d + %d = %d\" % (a, b, c))"
      ]
    },
    {
      "cell_type": "markdown",
      "metadata": {
        "id": "J0z68V_jG9v6"
      },
      "source": [
        "# Kết thúc"
      ]
    }
  ],
  "metadata": {
    "colab": {
      "provenance": []
    },
    "kernelspec": {
      "display_name": "Python 3",
      "name": "python3"
    },
    "language_info": {
      "codemirror_mode": {
        "name": "ipython",
        "version": 3
      },
      "file_extension": ".py",
      "mimetype": "text/x-python",
      "name": "python",
      "nbconvert_exporter": "python",
      "pygments_lexer": "ipython3",
      "version": "3.12.8"
    }
  },
  "nbformat": 4,
  "nbformat_minor": 0
}
